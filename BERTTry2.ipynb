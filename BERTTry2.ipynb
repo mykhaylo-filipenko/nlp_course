{
  "nbformat": 4,
  "nbformat_minor": 0,
  "metadata": {
    "colab": {
      "name": "BERTTry2.ipynb",
      "provenance": [],
      "collapsed_sections": [],
      "authorship_tag": "ABX9TyOajtIFklNfAjFbJqvkseZ4"
    },
    "kernelspec": {
      "name": "python3",
      "display_name": "Python 3"
    },
    "language_info": {
      "name": "python"
    },
    "accelerator": "GPU"
  },
  "cells": [
    {
      "cell_type": "markdown",
      "metadata": {
        "id": "uRNaOJTd7yZH"
      },
      "source": [
        "###Для виконання БЕРТа використаємо бібліотеку ktrain, яка містить в собі багато претренованих моделей"
      ]
    },
    {
      "cell_type": "code",
      "metadata": {
        "id": "fcH-P1CWhfEX"
      },
      "source": [
        "!pip install ktrain"
      ],
      "execution_count": null,
      "outputs": []
    },
    {
      "cell_type": "markdown",
      "metadata": {
        "id": "hVIk3s_F8be4"
      },
      "source": [
        "# Fake/Real news dataset\n",
        "### Завантажити датасет можна за наступним посиланням:  \n",
        "> https://www.kaggle.com/clmentbisaillon/fake-and-real-news-dataset/download\n",
        "\n",
        "### Загалом датасет має наступний вигляд: \n",
        "\n",
        "```Index(['title', 'text', 'subject', 'date'], dtype='object')```\n",
        "\n",
        "Для подальшої обробки було додано колонку 'Authenticity' та було об'єднано датасети в один news_data.\n",
        "\n",
        "\n",
        "\n",
        "\n"
      ]
    },
    {
      "cell_type": "code",
      "metadata": {
        "colab": {
          "base_uri": "https://localhost:8080/"
        },
        "id": "_-_uJRT_hXtK",
        "outputId": "f86ca94e-2fcd-4bec-f865-ebd9b3bbf302"
      },
      "source": [
        "import os\n",
        "import pandas as pd\n",
        "\n",
        "real = pd.read_csv(\"True.csv\")\n",
        "fake = pd.read_csv(\"Fake.csv\")\n",
        "\n",
        "print(real.columns)\n",
        "fake['Authenticity'] = False\n",
        "real['Authenticity'] = True\n",
        "print(real.columns)\n",
        "\n",
        "news_data = fake.append(real)\n",
        "\n",
        "news_data = pd.concat([real, fake])"
      ],
      "execution_count": null,
      "outputs": [
        {
          "output_type": "stream",
          "text": [
            "Index(['title', 'text', 'subject', 'date'], dtype='object')\n",
            "Index(['title', 'text', 'subject', 'date', 'Authenticity'], dtype='object')\n"
          ],
          "name": "stdout"
        }
      ]
    },
    {
      "cell_type": "code",
      "metadata": {
        "id": "e0dUCHzChdRY"
      },
      "source": [
        "X = np.asarray(news_data[\"text\"])\n",
        "y = np.asarray(news_data[\"Authenticity\"])"
      ],
      "execution_count": null,
      "outputs": []
    },
    {
      "cell_type": "markdown",
      "metadata": {
        "id": "6gVhXXoL9N1-"
      },
      "source": [
        "###Ділимо датасет на тренувальний та валідаційний"
      ]
    },
    {
      "cell_type": "code",
      "metadata": {
        "id": "eHnNKu6nhekm"
      },
      "source": [
        "from sklearn.model_selection import train_test_split\n",
        "X_train, X_test, y_train, y_test = train_test_split(X, y, test_size=0.3)"
      ],
      "execution_count": null,
      "outputs": []
    },
    {
      "cell_type": "markdown",
      "metadata": {
        "id": "xQyN2M669O8-"
      },
      "source": [
        "###Далі будемо використовувати модель 'distilbert-base-uncased', яка є зменшеною моделлю BERTa."
      ]
    },
    {
      "cell_type": "code",
      "metadata": {
        "colab": {
          "base_uri": "https://localhost:8080/",
          "height": 238
        },
        "id": "GS9HDcfzhiNH",
        "outputId": "48fda98e-ff0e-47d7-cd76-593cd381f790"
      },
      "source": [
        "import ktrain\n",
        "from ktrain import text\n",
        "\n",
        "MODEL_NAME = 'distilbert-base-uncased'\n",
        "t = text.Transformer(MODEL_NAME, maxlen=500, class_names=[\"True\", \"False\"])\n",
        "trn = t.preprocess_train(X_train, y_train)\n",
        "val = t.preprocess_test(X_test, y_test)\n",
        "model = t.get_classifier()\n",
        "learner = ktrain.get_learner(model, train_data=trn, val_data=val, batch_size=6)"
      ],
      "execution_count": null,
      "outputs": [
        {
          "output_type": "stream",
          "text": [
            "preprocessing train...\n",
            "language: en\n",
            "train sequence lengths:\n",
            "\tmean : 404\n",
            "\t95percentile : 901\n",
            "\t99percentile : 1507\n"
          ],
          "name": "stdout"
        },
        {
          "output_type": "display_data",
          "data": {
            "text/html": [
              ""
            ],
            "text/plain": [
              "<IPython.core.display.HTML object>"
            ]
          },
          "metadata": {
            "tags": []
          }
        },
        {
          "output_type": "stream",
          "text": [
            "Is Multi-Label? False\n",
            "preprocessing test...\n",
            "language: en\n",
            "test sequence lengths:\n",
            "\tmean : 407\n",
            "\t95percentile : 911\n",
            "\t99percentile : 1509\n"
          ],
          "name": "stdout"
        },
        {
          "output_type": "display_data",
          "data": {
            "text/html": [
              ""
            ],
            "text/plain": [
              "<IPython.core.display.HTML object>"
            ]
          },
          "metadata": {
            "tags": []
          }
        }
      ]
    },
    {
      "cell_type": "markdown",
      "metadata": {
        "id": "I0G3JMy59jww"
      },
      "source": [
        "###Дотреновуємо нашого БЕРТа під специфічну задачу"
      ]
    },
    {
      "cell_type": "code",
      "metadata": {
        "colab": {
          "base_uri": "https://localhost:8080/"
        },
        "id": "6IgMwrjSjhvG",
        "outputId": "baf8a983-20b3-4b39-e957-11482c5155a8"
      },
      "source": [
        "learner.fit_onecycle(8e-5, 1)"
      ],
      "execution_count": null,
      "outputs": [
        {
          "output_type": "stream",
          "text": [
            "\n",
            "\n",
            "begin training using onecycle policy with max lr of 8e-05...\n",
            "5238/5238 [==============================] - 3946s 750ms/step - loss: 0.0560 - accuracy: 0.9825 - val_loss: 0.0026 - val_accuracy: 0.9997\n"
          ],
          "name": "stdout"
        },
        {
          "output_type": "execute_result",
          "data": {
            "text/plain": [
              "<tensorflow.python.keras.callbacks.History at 0x7f36597d4290>"
            ]
          },
          "metadata": {
            "tags": []
          },
          "execution_count": 13
        }
      ]
    },
    {
      "cell_type": "markdown",
      "metadata": {
        "id": "hZYZoi93AWbe"
      },
      "source": [
        ""
      ]
    },
    {
      "cell_type": "code",
      "metadata": {
        "colab": {
          "base_uri": "https://localhost:8080/"
        },
        "id": "eYiC8mPbjipE",
        "outputId": "661ae518-e2d8-433c-80f9-ab314a269b99"
      },
      "source": [
        "learner.validate(class_names=[\"True\", \"False\"])"
      ],
      "execution_count": null,
      "outputs": [
        {
          "output_type": "stream",
          "text": [
            "              precision    recall  f1-score   support\n",
            "\n",
            "        True       1.00      1.00      1.00      7086\n",
            "       False       1.00      1.00      1.00      6384\n",
            "\n",
            "    accuracy                           1.00     13470\n",
            "   macro avg       1.00      1.00      1.00     13470\n",
            "weighted avg       1.00      1.00      1.00     13470\n",
            "\n"
          ],
          "name": "stdout"
        },
        {
          "output_type": "execute_result",
          "data": {
            "text/plain": [
              "array([[7086,    0],\n",
              "       [   4, 6380]])"
            ]
          },
          "metadata": {
            "tags": []
          },
          "execution_count": 14
        }
      ]
    },
    {
      "cell_type": "code",
      "metadata": {
        "colab": {
          "base_uri": "https://localhost:8080/"
        },
        "id": "4hXDrkicjj1g",
        "outputId": "2570446d-93cd-44ed-db6f-6fd47d37f109"
      },
      "source": [
        "learner.view_top_losses(n=1, preproc=t)"
      ],
      "execution_count": null,
      "outputs": [
        {
          "output_type": "stream",
          "text": [
            "----------\n",
            "id:10638 | loss:10.04 | true:False | pred:True)\n",
            "\n"
          ],
          "name": "stdout"
        }
      ]
    },
    {
      "cell_type": "code",
      "metadata": {
        "colab": {
          "base_uri": "https://localhost:8080/",
          "height": 35
        },
        "id": "ZX3CbQxbjk7K",
        "outputId": "bc3bcf2a-1cda-4544-fb4a-d463b083aeec"
      },
      "source": [
        "predictor = ktrain.get_predictor(learner.model, preproc=t)\n",
        "predictor.predict(X_test[15])"
      ],
      "execution_count": null,
      "outputs": [
        {
          "output_type": "execute_result",
          "data": {
            "application/vnd.google.colaboratory.intrinsic+json": {
              "type": "string"
            },
            "text/plain": [
              "'False'"
            ]
          },
          "metadata": {
            "tags": []
          },
          "execution_count": 16
        }
      ]
    },
    {
      "cell_type": "code",
      "metadata": {
        "colab": {
          "base_uri": "https://localhost:8080/"
        },
        "id": "wldGaTILjmyp",
        "outputId": "11ce2fe1-354f-4e3f-83da-a3729383e05f"
      },
      "source": [
        "predictor.explain(X_test[15])"
      ],
      "execution_count": null,
      "outputs": [
        {
          "output_type": "stream",
          "text": [
            "/usr/local/lib/python3.7/dist-packages/ktrain/text/predictor.py:115: UserWarning: ktrain requires a forked version of eli5 to support tf.keras. Install with: pip install git+https://github.com/amaiya/eli5@tfkeras_0_10_1\n",
            "  warnings.warn(msg)\n"
          ],
          "name": "stderr"
        }
      ]
    }
  ]
}